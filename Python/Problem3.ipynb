{
 "cells": [
  {
   "cell_type": "code",
   "execution_count": 8,
   "id": "d6945449",
   "metadata": {},
   "outputs": [
    {
     "name": "stdout",
     "output_type": "stream",
     "text": [
      "Enter the number whose factors are need to be find: 24\n",
      "============= ITERATIVE METHOD =============\n",
      "The factors of the given number is: 1 , 2 , 3 , 4 , 6 , 8 , 12 , 24\n",
      "============= RECURSIVE METHOD =============\n",
      "The factors of the given number is: 1 , 2 , 3 , 4 , 6 , 8 , 12 , 24\n"
     ]
    }
   ],
   "source": [
    "num = int(input(\"Enter the number whose factors are need to be find: \"))\n",
    "print(\"============= ITERATIVE METHOD =============\")\n",
    "print(\"The factors of the given number is: \",end=\"\")\n",
    "for i in range(1,num):\n",
    "    if num % i == 0:\n",
    "        print(i,\", \",end=\"\")\n",
    "print(num)\n",
    "def customFactors(number,testNumber):\n",
    "    temp = testNumber\n",
    "    if temp < number:\n",
    "        if number % temp == 0:\n",
    "            print(temp,\", \",end=\"\")\n",
    "        return customFactors(number, temp + 1)\n",
    "    print(number)\n",
    "print(\"============= RECURSIVE METHOD =============\")\n",
    "print(\"The factors of the given number is: \",end=\"\")\n",
    "customFactors(num,1)"
   ]
  },
  {
   "cell_type": "code",
   "execution_count": null,
   "id": "a9e0853d",
   "metadata": {},
   "outputs": [],
   "source": []
  }
 ],
 "metadata": {
  "kernelspec": {
   "display_name": "Python 3 (ipykernel)",
   "language": "python",
   "name": "python3"
  },
  "language_info": {
   "codemirror_mode": {
    "name": "ipython",
    "version": 3
   },
   "file_extension": ".py",
   "mimetype": "text/x-python",
   "name": "python",
   "nbconvert_exporter": "python",
   "pygments_lexer": "ipython3",
   "version": "3.9.13"
  }
 },
 "nbformat": 4,
 "nbformat_minor": 5
}
