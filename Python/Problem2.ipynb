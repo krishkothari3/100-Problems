{
 "cells": [
  {
   "cell_type": "code",
   "execution_count": 3,
   "id": "243aaf51",
   "metadata": {},
   "outputs": [
    {
     "name": "stdout",
     "output_type": "stream",
     "text": [
      "Enter the String which is need to be checkababa\n",
      "The entered string is palindrome\n"
     ]
    }
   ],
   "source": [
    "#WAP to find whether string is palindrome or not.\n",
    "inputString = input(\"Enter the String which is need to be check\")\n",
    "if(inputString == inputString[::-1]):\n",
    "    print(\"The entered string is palindrome\")\n",
    "else:\n",
    "    print(\"The entered string is not palindrome\")"
   ]
  },
  {
   "cell_type": "code",
   "execution_count": null,
   "id": "a5397edc",
   "metadata": {},
   "outputs": [],
   "source": []
  }
 ],
 "metadata": {
  "kernelspec": {
   "display_name": "Python 3 (ipykernel)",
   "language": "python",
   "name": "python3"
  },
  "language_info": {
   "codemirror_mode": {
    "name": "ipython",
    "version": 3
   },
   "file_extension": ".py",
   "mimetype": "text/x-python",
   "name": "python",
   "nbconvert_exporter": "python",
   "pygments_lexer": "ipython3",
   "version": "3.9.13"
  }
 },
 "nbformat": 4,
 "nbformat_minor": 5
}
