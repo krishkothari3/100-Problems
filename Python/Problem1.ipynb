{
 "cells": [
  {
   "cell_type": "code",
   "execution_count": 8,
   "id": "99dca419",
   "metadata": {},
   "outputs": [
    {
     "name": "stdout",
     "output_type": "stream",
     "text": [
      "Enter the number of digits you want to enter in an array: 4\n",
      "Enter the number: 1\n",
      "Enter the number: 2\n",
      "Enter the number: 3\n",
      "Enter the number: 4\n",
      "The sum of the even numbers in the given array is: 6\n"
     ]
    }
   ],
   "source": [
    "#WAP to find a sum of even number into 1D array.\n",
    "inputList = list()\n",
    "sum = 0\n",
    "n = int(input(\"Enter the number of digits you want to enter in an array: \"))\n",
    "for i in range(n):\n",
    "    inputList.append(int(input(\"Enter the number: \")))\n",
    "    if inputList[i] % 2 == 0:\n",
    "        sum += inputList[i]\n",
    "print(\"The sum of the even numbers in the given array is:\",sum)"
   ]
  },
  {
   "cell_type": "code",
   "execution_count": null,
   "id": "b9012e24",
   "metadata": {},
   "outputs": [],
   "source": []
  }
 ],
 "metadata": {
  "kernelspec": {
   "display_name": "Python 3 (ipykernel)",
   "language": "python",
   "name": "python3"
  },
  "language_info": {
   "codemirror_mode": {
    "name": "ipython",
    "version": 3
   },
   "file_extension": ".py",
   "mimetype": "text/x-python",
   "name": "python",
   "nbconvert_exporter": "python",
   "pygments_lexer": "ipython3",
   "version": "3.9.13"
  }
 },
 "nbformat": 4,
 "nbformat_minor": 5
}
