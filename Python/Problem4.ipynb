{
 "cells": [
  {
   "cell_type": "code",
   "execution_count": 13,
   "id": "cebe7d5d",
   "metadata": {},
   "outputs": [
    {
     "name": "stdout",
     "output_type": "stream",
     "text": [
      "Enter the number whose factorial is need to be find: 6\n",
      "============= ITERATIVE METHOD =============\n",
      "The factorial of the given number is 720\n",
      "============= RECURSIVE METHOD =============\n",
      "The factorial of the given number is 720\n"
     ]
    }
   ],
   "source": [
    "//WAP to find a Factorial of a given integer\n",
    "num = int(input(\"Enter the number whose factorial is need to be find: \"))\n",
    "fact = 1\n",
    "for i in range(num,1,-1):\n",
    "    fact *= i\n",
    "print(\"============= ITERATIVE METHOD =============\")\n",
    "print(\"The factorial of the given number is\",fact)\n",
    "def customFactorial(number):\n",
    "    if number == 1 or number == 0:\n",
    "        return number\n",
    "    else:\n",
    "        return number * customFactorial(number - 1)\n",
    "print(\"============= RECURSIVE METHOD =============\")\n",
    "print(\"The factorial of the given number is\",customFactorial(num))"
   ]
  },
  {
   "cell_type": "code",
   "execution_count": null,
   "id": "1b771312",
   "metadata": {},
   "outputs": [],
   "source": []
  }
 ],
 "metadata": {
  "kernelspec": {
   "display_name": "Python 3 (ipykernel)",
   "language": "python",
   "name": "python3"
  },
  "language_info": {
   "codemirror_mode": {
    "name": "ipython",
    "version": 3
   },
   "file_extension": ".py",
   "mimetype": "text/x-python",
   "name": "python",
   "nbconvert_exporter": "python",
   "pygments_lexer": "ipython3",
   "version": "3.9.13"
  }
 },
 "nbformat": 4,
 "nbformat_minor": 5
}
